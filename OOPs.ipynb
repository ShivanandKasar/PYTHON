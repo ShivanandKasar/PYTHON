{
 "cells": [
  {
   "cell_type": "markdown",
   "id": "6f6f3a04",
   "metadata": {},
   "source": [
    "## OOPs"
   ]
  },
  {
   "cell_type": "markdown",
   "id": "8e16b0cc",
   "metadata": {},
   "source": [
    "### Class and object concepts in Python\n",
    "Object-oriented programming (OOP) in Python allows for the creation of classes, which serve as blueprints for creating objects. A class encapsulates data for the object and methods that define the behavior of the objects created from the class."
   ]
  },
  {
   "cell_type": "code",
   "execution_count": 2,
   "id": "2685b8d3",
   "metadata": {},
   "outputs": [
    {
     "name": "stdout",
     "output_type": "stream",
     "text": [
      "Aman\n",
      "94\n"
     ]
    }
   ],
   "source": [
    "# Creating class\n",
    "class Student:\n",
    "    name = \"Aman\"\n",
    "    marks = 94\n",
    "    \n",
    "# creating object\n",
    "S1 = Student()\n",
    "print(S1.name)  \n",
    "print(S1.marks)  "
   ]
  },
  {
   "cell_type": "markdown",
   "id": "c53b9e45",
   "metadata": {},
   "source": [
    "### '__init__' Function:\n",
    "* Constructor for initializing instance variables and setting up the object state.\n",
    "* All classes have __init__ function which is always executed when object is being initiated."
   ]
  },
  {
   "cell_type": "code",
   "execution_count": 3,
   "id": "fc5e33d7",
   "metadata": {},
   "outputs": [
    {
     "name": "stdout",
     "output_type": "stream",
     "text": [
      "Adding new student to database.\n",
      "Aman 94 ABC College\n",
      "Adding new student to database.\n",
      "Ravi 90\n"
     ]
    }
   ],
   "source": [
    "class Student:\n",
    "    college = \"ABC College\" # class attribute which is shared by all instances of the class\n",
    "    def __init__(self, name, marks):\n",
    "        self.name = name # object attribute which is unique to each instance of the class\n",
    "        self.marks = marks\n",
    "        print(\"Adding new student to database.\")\n",
    "        \n",
    "S1 = Student(\"Aman\", 94)\n",
    "print(S1.name, S1.marks, S1.college)\n",
    "S2 = Student(\"Ravi\", 90)\n",
    "print(S2.name, S2.marks)\n"
   ]
  },
  {
   "cell_type": "markdown",
   "id": "86eab51b",
   "metadata": {},
   "source": [
    "The \"self\" paramter is the reference to the current instance of class, and it is used to access variable that belongs to the class."
   ]
  },
  {
   "cell_type": "markdown",
   "id": "4df8c0e6",
   "metadata": {},
   "source": [
    "### Methods\n",
    "Functions inside the class are referred to as methods and can operate on the instance variables of the class."
   ]
  },
  {
   "cell_type": "code",
   "execution_count": 4,
   "id": "7ef3bbec",
   "metadata": {},
   "outputs": [
    {
     "name": "stdout",
     "output_type": "stream",
     "text": [
      "Adding new student to database.\n",
      "Welcome to the college Aman\n",
      "94\n"
     ]
    }
   ],
   "source": [
    "class Student:\n",
    "    college = \"ABC College\"\n",
    "    def __init__(self, name, marks):\n",
    "        self.name = name \n",
    "        self.marks = marks\n",
    "        print(\"Adding new student to database.\")\n",
    "        \n",
    "    def welcome(self): # method to print welcome message\n",
    "        print(\"Welcome to the college\", self.name)\n",
    "        \n",
    "    def get_marks(self): # method to get marks of the student\n",
    "        return self.marks\n",
    "        \n",
    "S1 = Student(\"Aman\", 94)\n",
    "S1.welcome()\n",
    "print(S1.get_marks())\n"
   ]
  },
  {
   "cell_type": "markdown",
   "id": "fa838942",
   "metadata": {},
   "source": [
    "##### Practice Question:\n",
    "Create a student class that takes a name and marks of three subject as argument in the constructor. Then create a method to calculate the average of the marks."
   ]
  },
  {
   "cell_type": "code",
   "execution_count": 5,
   "id": "79bcfac5",
   "metadata": {},
   "outputs": [
    {
     "name": "stdout",
     "output_type": "stream",
     "text": [
      "Average marks of Aman is 93.0\n"
     ]
    }
   ],
   "source": [
    "class Student:\n",
    "    def __init__(self, name, marks):\n",
    "        self.name = name\n",
    "        self.marks = marks\n",
    "        \n",
    "    def get_avg(self):\n",
    "        sum = 0\n",
    "        for i in self.marks:\n",
    "            sum += i\n",
    "        print(\"Average marks of\", self.name, \"is\", sum/len(self.marks))\n",
    "        \n",
    "s1 = Student(\"Aman\", [94, 90, 95])\n",
    "s1.get_avg()"
   ]
  },
  {
   "cell_type": "markdown",
   "id": "8b3e0ea0",
   "metadata": {},
   "source": [
    "### Static method\n",
    "Method that dont use self parameter (works at class level)"
   ]
  },
  {
   "cell_type": "code",
   "execution_count": 6,
   "id": "57a8f1c0",
   "metadata": {},
   "outputs": [
    {
     "name": "stdout",
     "output_type": "stream",
     "text": [
      "Average marks of Aman is 93.0\n",
      "Hello\n"
     ]
    }
   ],
   "source": [
    "class Student:\n",
    "    def __init__(self, name, marks):\n",
    "        self.name = name\n",
    "        self.marks = marks\n",
    "     \n",
    "    @staticmethod # Decorator   \n",
    "    def hello():\n",
    "        print(\"Hello\")\n",
    "        \n",
    "    def get_avg(self):\n",
    "        sum = 0\n",
    "        for i in self.marks:\n",
    "            sum += i\n",
    "        print(\"Average marks of\", self.name, \"is\", sum/len(self.marks))\n",
    "        \n",
    "s1 = Student(\"Aman\", [94, 90, 95])\n",
    "s1.get_avg()\n",
    "s1.hello() # calling static method using object"
   ]
  },
  {
   "cell_type": "markdown",
   "id": "c2b72d44",
   "metadata": {},
   "source": [
    "Decorators allows to wrap another function in order to extend the behavior of wrapped function, without permanently modifying it."
   ]
  },
  {
   "cell_type": "markdown",
   "id": "0bcb7e41",
   "metadata": {},
   "source": [
    "### Abstraction:\n",
    "Hiding the implementation details of class and only showing essential features to the user."
   ]
  },
  {
   "cell_type": "code",
   "execution_count": 7,
   "id": "3ac46b7d",
   "metadata": {},
   "outputs": [
    {
     "name": "stdout",
     "output_type": "stream",
     "text": [
      "Car started\n"
     ]
    }
   ],
   "source": [
    "class car:\n",
    "    \n",
    "    def __init__(self):\n",
    "        self.acc = False\n",
    "        self.brk = False\n",
    "        self.clutch = False\n",
    "        \n",
    "    def start(self):\n",
    "        self.clutch = True\n",
    "        self.acc = True\n",
    "        print(\"Car started\")\n",
    "        \n",
    "car1 = car()\n",
    "car1.start()"
   ]
  },
  {
   "cell_type": "markdown",
   "id": "7bd136d1",
   "metadata": {},
   "source": [
    "### Encapsulation:\n",
    "wrapping data and functions into a single unit (Object)"
   ]
  },
  {
   "cell_type": "markdown",
   "id": "4ea549f4",
   "metadata": {},
   "source": [
    "##### Practice Question\n",
    "Create account class with two attributes balance and account no. Create methods for debit credit and printing balance."
   ]
  },
  {
   "cell_type": "code",
   "execution_count": 8,
   "id": "fb0106ff",
   "metadata": {},
   "outputs": [
    {
     "name": "stdout",
     "output_type": "stream",
     "text": [
      "Debited amount 100\n",
      "Total balance: 900\n",
      "credited amount 200\n",
      "Total balance: 1100\n"
     ]
    }
   ],
   "source": [
    "class account:\n",
    "    def __init__(self, bal, acc_no):\n",
    "        self.balance = bal\n",
    "        self.account_no = acc_no\n",
    "        \n",
    "    def debit(self, amount):\n",
    "        self.balance -= amount\n",
    "        print(\"Debited amount\", amount)\n",
    "        print(\"Total balance:\", self.get_balance())\n",
    "            \n",
    "    def credit(self, amount):\n",
    "        self.balance += amount\n",
    "        print(\"credited amount\", amount)\n",
    "        print(\"Total balance:\", self.get_balance())\n",
    "            \n",
    "    def get_balance(self):\n",
    "        return self.balance\n",
    "    \n",
    "acc1 = account(1000, 123456)\n",
    "acc1.debit(100)\n",
    "acc1.credit(200)"
   ]
  },
  {
   "cell_type": "markdown",
   "id": "a0f8c536",
   "metadata": {},
   "source": [
    "### Private(like) attribute and method:\n",
    "Private attributes and methods are only mean to be used within class and are not accessible from outside the class."
   ]
  },
  {
   "cell_type": "code",
   "execution_count": 9,
   "id": "c5c3e240",
   "metadata": {},
   "outputs": [
    {
     "name": "stdout",
     "output_type": "stream",
     "text": [
      "Hello person\n",
      "None\n"
     ]
    }
   ],
   "source": [
    "class Person:\n",
    "    \n",
    "    __name = \"Anonymous\" # private variable\n",
    "    \n",
    "    def __hello(self):\n",
    "        print(\"Hello person\") # private method\n",
    "        \n",
    "    def welcome(self):\n",
    "        self.__hello()\n",
    "        \n",
    "p1 = Person()\n",
    "print(p1.welcome())"
   ]
  },
  {
   "cell_type": "markdown",
   "id": "b30254c6",
   "metadata": {},
   "source": [
    "### Inheritance\n",
    "When one class (child/derived) derives the properties and methods of another class (parent/base)"
   ]
  },
  {
   "cell_type": "markdown",
   "id": "3639e8e9",
   "metadata": {},
   "source": [
    "### 1) Single Inheritance"
   ]
  },
  {
   "cell_type": "code",
   "execution_count": 10,
   "id": "554fc02c",
   "metadata": {},
   "outputs": [
    {
     "name": "stdout",
     "output_type": "stream",
     "text": [
      "Fortuner\n",
      "Car started\n"
     ]
    }
   ],
   "source": [
    "class Car():\n",
    "    @staticmethod\n",
    "    def start():\n",
    "        print(\"Car started\")\n",
    "    @staticmethod\n",
    "    def stop():\n",
    "        print(\"Car stopped\")\n",
    "        \n",
    "class ToyotaCar(Car): # Inheriting from Car class means properties of Car class are inherited by ToyotaCar class\n",
    "    def __init__(self, name):\n",
    "        self.name = name\n",
    "        \n",
    "car1 = ToyotaCar(\"Fortuner\")\n",
    "\n",
    "print(car1.name)\n",
    "car1.start()"
   ]
  },
  {
   "cell_type": "markdown",
   "id": "e752d81b",
   "metadata": {},
   "source": [
    "### 2) Multi-level Inheritance"
   ]
  },
  {
   "cell_type": "code",
   "execution_count": 11,
   "id": "868b3321",
   "metadata": {},
   "outputs": [
    {
     "name": "stdout",
     "output_type": "stream",
     "text": [
      "Diesel\n",
      "Car started\n"
     ]
    }
   ],
   "source": [
    "class Car():\n",
    "    @staticmethod\n",
    "    def start():\n",
    "        print(\"Car started\")\n",
    "    @staticmethod\n",
    "    def stop():\n",
    "        print(\"Car stopped\")\n",
    "        \n",
    "class ToyotaCar(Car): \n",
    "    def __init__(self, name):\n",
    "        self.name = name\n",
    "        \n",
    "class Fortuner(ToyotaCar): # Inheriting from ToyotaCar class means properties of ToyotaCar class are inherited by Fortuner class\n",
    "    def __init__(self, type):\n",
    "        self.type = type\n",
    "        \n",
    "        \n",
    "car1 = Fortuner(\"Diesel\")\n",
    "print(car1.type)\n",
    "car1.start()"
   ]
  },
  {
   "cell_type": "markdown",
   "id": "e04a23f1",
   "metadata": {},
   "source": [
    "### 3) Multiple Inheritance"
   ]
  },
  {
   "cell_type": "code",
   "execution_count": 12,
   "id": "bf726f99",
   "metadata": {},
   "outputs": [
    {
     "name": "stdout",
     "output_type": "stream",
     "text": [
      "Welcome to the class A\n",
      "Welcome to the class B\n",
      "Welcome to the class C\n"
     ]
    }
   ],
   "source": [
    "class A:\n",
    "    varA = \"Welcome to the class A\"\n",
    "    \n",
    "class B:\n",
    "    varB = \"Welcome to the class B\"\n",
    "    \n",
    "class C(A, B): # Inheriting from A and B class means properties of A and B class are inherited by C class\n",
    "    varC = \"Welcome to the class C\"\n",
    "    \n",
    "c1 = C()\n",
    "\n",
    "print(c1.varA) # accessing variable of A class\n",
    "print(c1.varB) # accessing variable of B class\n",
    "print(c1.varC) # accessing variable of C class"
   ]
  },
  {
   "cell_type": "markdown",
   "id": "80863cf8",
   "metadata": {},
   "source": [
    "### super() method\n",
    "method used to access methods of the parent class."
   ]
  },
  {
   "cell_type": "code",
   "execution_count": 13,
   "id": "687d4f0a",
   "metadata": {},
   "outputs": [
    {
     "name": "stdout",
     "output_type": "stream",
     "text": [
      "Fortuner\n",
      "Car started\n"
     ]
    }
   ],
   "source": [
    "class Car():\n",
    "    \n",
    "    def __init__(self, type):\n",
    "        self.type = type\n",
    "        \n",
    "    @staticmethod\n",
    "    def start():\n",
    "        print(\"Car started\")\n",
    "        \n",
    "    @staticmethod\n",
    "    def stop():\n",
    "        print(\"Car stopped\")\n",
    "        \n",
    "class ToyotaCar(Car): \n",
    "    def __init__(self, name, type):\n",
    "        super().__init__(type) # calling constructor of parent class\n",
    "        self.name = name\n",
    "        \n",
    "        \n",
    "car1 = ToyotaCar(\"Diesel\", \"Fortuner\")\n",
    "print(car1.type)\n",
    "car1.start()"
   ]
  },
  {
   "cell_type": "markdown",
   "id": "bf1b8721",
   "metadata": {},
   "source": [
    "### Polymorphism: \n",
    "* The ability of an object to take on many forms.\n",
    "* Operator Overloading : when same operator is allow to have different meaning according to context."
   ]
  },
  {
   "cell_type": "code",
   "execution_count": 14,
   "id": "a964d670",
   "metadata": {},
   "outputs": [
    {
     "name": "stdout",
     "output_type": "stream",
     "text": [
      "SportsCar engine roars!\n",
      "ElectricCar starts silently.\n"
     ]
    }
   ],
   "source": [
    "# Base class\n",
    "class Car:\n",
    "    def start(self):\n",
    "        return \"car started\"\n",
    "\n",
    "# Subclass 1\n",
    "class SportsCar(Car):\n",
    "    def start(self):\n",
    "        return \"SportsCar engine roars!\"\n",
    "\n",
    "# Subclass 2\n",
    "class ElectricCar(Car):\n",
    "    def start(self):\n",
    "        return \"ElectricCar starts silently.\"\n",
    "\n",
    "# Function that uses polymorphism\n",
    "def test_drive(car):\n",
    "    print(car.start())\n",
    "\n",
    "# Creating objects\n",
    "ferrari = SportsCar()\n",
    "tesla = ElectricCar()\n",
    "\n",
    "# Demonstrating polymorphism\n",
    "test_drive(ferrari)  \n",
    "test_drive(tesla)    \n"
   ]
  },
  {
   "cell_type": "code",
   "execution_count": null,
   "id": "ebbf1dad",
   "metadata": {},
   "outputs": [],
   "source": []
  }
 ],
 "metadata": {
  "kernelspec": {
   "display_name": "Python 3",
   "language": "python",
   "name": "python3"
  },
  "language_info": {
   "codemirror_mode": {
    "name": "ipython",
    "version": 3
   },
   "file_extension": ".py",
   "mimetype": "text/x-python",
   "name": "python",
   "nbconvert_exporter": "python",
   "pygments_lexer": "ipython3",
   "version": "3.12.1"
  }
 },
 "nbformat": 4,
 "nbformat_minor": 5
}
