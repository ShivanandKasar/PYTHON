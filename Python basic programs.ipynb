{
 "cells": [
  {
   "cell_type": "markdown",
   "metadata": {},
   "source": [
    "##  celcious to Fahrenheit"
   ]
  },
  {
   "cell_type": "code",
   "execution_count": 1,
   "metadata": {},
   "outputs": [
    {
     "name": "stdout",
     "output_type": "stream",
     "text": [
      "Enter temp in celcious: 34\n",
      "Temperature in fahreheit:  93.2\n"
     ]
    }
   ],
   "source": [
    "temp=float(input(\"Enter temp in celcious: \"))\n",
    "fahreheit=(temp*1.8)+32\n",
    "print(\"Temperature in fahreheit: \", fahreheit)"
   ]
  },
  {
   "cell_type": "markdown",
   "metadata": {},
   "source": [
    "## Swap variable with third variable"
   ]
  },
  {
   "cell_type": "code",
   "execution_count": 2,
   "metadata": {},
   "outputs": [
    {
     "name": "stdout",
     "output_type": "stream",
     "text": [
      "Enter the 1st number: 45\n",
      "Enter the 2nd number: 18\n",
      "value of a after swapping:  18\n",
      "value of b after swapping:  45\n"
     ]
    }
   ],
   "source": [
    "a=int(input(\"Enter the 1st number: \"))\n",
    "b=int(input(\"Enter the 2nd number: \"))\n",
    "\n",
    "\n",
    "c=a\n",
    "a=b\n",
    "b=c\n",
    "\n",
    "print(\"value of a after swapping: \", a)\n",
    "print(\"value of b after swapping: \", b)"
   ]
  },
  {
   "cell_type": "markdown",
   "metadata": {},
   "source": [
    "## Swap variable without third variable"
   ]
  },
  {
   "cell_type": "code",
   "execution_count": 3,
   "metadata": {},
   "outputs": [
    {
     "name": "stdout",
     "output_type": "stream",
     "text": [
      "Enter the 1st number: 45\n",
      "Enter the 2nd number: 18\n",
      "value of a after swapping:  18\n",
      "value of b after swapping:  45\n"
     ]
    }
   ],
   "source": [
    "a=int(input(\"Enter the 1st number: \"))\n",
    "b=int(input(\"Enter the 2nd number: \"))\n",
    "\n",
    "a=a+b\n",
    "b=a-b\n",
    "a=a-b\n",
    "\n",
    "print(\"value of a after swapping: \", a)\n",
    "print(\"value of b after swapping: \", b)"
   ]
  },
  {
   "cell_type": "markdown",
   "metadata": {},
   "source": [
    "## Addition of the digits of the numbers"
   ]
  },
  {
   "cell_type": "code",
   "execution_count": 4,
   "metadata": {},
   "outputs": [
    {
     "name": "stdout",
     "output_type": "stream",
     "text": [
      "Enter number: 850\n",
      "Sum of the digits:  13\n"
     ]
    }
   ],
   "source": [
    "n=int(input(\"Enter number: \"))\n",
    "sum=0\n",
    "while(n>0):\n",
    "    sum=sum+n%10\n",
    "    n=n//10\n",
    "print(\"Sum of the digits: \", sum)"
   ]
  },
  {
   "cell_type": "markdown",
   "metadata": {},
   "source": [
    "## Reverse the number of digits"
   ]
  },
  {
   "cell_type": "code",
   "execution_count": 5,
   "metadata": {},
   "outputs": [
    {
     "name": "stdout",
     "output_type": "stream",
     "text": [
      "Enter the number: 568\n",
      "Reverse digits of the numbers:  865\n"
     ]
    }
   ],
   "source": [
    "n=int(input(\"Enter the number: \"))\n",
    "rev=0\n",
    "while(n>0):\n",
    "    rev=rev*10+n%10\n",
    "    n=n//10\n",
    "print(\"Reverse digits of the numbers: \", rev)"
   ]
  },
  {
   "cell_type": "markdown",
   "metadata": {},
   "source": [
    "## Check number is Even or Odd"
   ]
  },
  {
   "cell_type": "code",
   "execution_count": 6,
   "metadata": {},
   "outputs": [
    {
     "name": "stdout",
     "output_type": "stream",
     "text": [
      "Enter the number: 45\n",
      "Number is odd\n"
     ]
    }
   ],
   "source": [
    "n=int(input(\"Enter the number: \"))\n",
    "if n%2==0:\n",
    "    print(\"Number is even\")\n",
    "else:\n",
    "    print(\"Number is odd\")"
   ]
  },
  {
   "cell_type": "markdown",
   "metadata": {},
   "source": [
    "## Check whether year is leap year or not"
   ]
  },
  {
   "cell_type": "code",
   "execution_count": 9,
   "metadata": {},
   "outputs": [
    {
     "name": "stdout",
     "output_type": "stream",
     "text": [
      "Enter year: 2000\n",
      "Leap year\n"
     ]
    }
   ],
   "source": [
    "n=int(input(\"Enter year: \"))\n",
    "if n%4==0:\n",
    "    print(\"Leap year\")\n",
    "else:\n",
    "    print(\"Not a leap year\")"
   ]
  },
  {
   "cell_type": "markdown",
   "metadata": {},
   "source": [
    "## Find the Euclidean Distance"
   ]
  },
  {
   "cell_type": "code",
   "execution_count": 10,
   "metadata": {},
   "outputs": [
    {
     "name": "stdout",
     "output_type": "stream",
     "text": [
      "Enter x1 of x coordinate: 45\n",
      "Enter x2 of x coordinate: 55\n",
      "Enter y1 of y coordinate: 23\n",
      "Enter y2 of y coordinate: 51\n",
      "Euclidean distance:  29.732137494637012\n"
     ]
    }
   ],
   "source": [
    "x1=float(input(\"Enter x1 of x coordinate: \"))\n",
    "x2=float(input(\"Enter x2 of x coordinate: \"))\n",
    "y1=float(input(\"Enter y1 of y coordinate: \"))\n",
    "y2=float(input(\"Enter y2 of y coordinate: \"))\n",
    "\n",
    "# Eucliean Distance\n",
    "\n",
    "d=((x2-x1)**2 + (y2-y1)**2)**0.5\n",
    "\n",
    "print(\"Euclidean distance: \",d)"
   ]
  },
  {
   "cell_type": "markdown",
   "metadata": {},
   "source": [
    "## Check given angles forms a triangle or not"
   ]
  },
  {
   "cell_type": "code",
   "execution_count": 11,
   "metadata": {},
   "outputs": [
    {
     "name": "stdout",
     "output_type": "stream",
     "text": [
      "Enter 1st angle: 55\n",
      "Enter 2nd angle: 28\n",
      "Enter 3rd angle: 60\n",
      "These angles cant make tringle\n"
     ]
    }
   ],
   "source": [
    "a=int(input(\"Enter 1st angle: \"))\n",
    "b=int(input(\"Enter 2nd angle: \"))\n",
    "c=int(input(\"Enter 3rd angle: \"))\n",
    "\n",
    "if a+b+c==180 and a!=0 and b!=0 and c!=0:\n",
    "    print(\"These angles can make triangle\")\n",
    "else:\n",
    "    print(\"These angles cant make tringle\")"
   ]
  },
  {
   "cell_type": "markdown",
   "metadata": {},
   "source": [
    "## Calculate profit or loss"
   ]
  },
  {
   "cell_type": "code",
   "execution_count": 12,
   "metadata": {},
   "outputs": [
    {
     "name": "stdout",
     "output_type": "stream",
     "text": [
      "Enter cost price: 100\n",
      "Enter selling price: 200\n",
      "Profit:  100.0\n"
     ]
    }
   ],
   "source": [
    "cp=float(input(\"Enter cost price: \"))\n",
    "sp=float(input(\"Enter selling price: \"))\n",
    "\n",
    "if cp>sp:\n",
    "    ammount=cp-sp\n",
    "    print(\"Loss\", ammount)\n",
    "else:\n",
    "    ammount=sp-cp\n",
    "    print(\"Profit: \",ammount )"
   ]
  },
  {
   "cell_type": "markdown",
   "metadata": {},
   "source": [
    "## Calculate simple interest"
   ]
  },
  {
   "cell_type": "code",
   "execution_count": 13,
   "metadata": {},
   "outputs": [
    {
     "name": "stdout",
     "output_type": "stream",
     "text": [
      "Enter principle ammount: 1000\n",
      "Enter rate of interst: 2\n",
      "Enter time period in year: 5\n",
      "Simple Interest is:  100.0\n",
      "Ammount after interest:  1100.0\n"
     ]
    }
   ],
   "source": [
    "p=int(input(\"Enter principle ammount: \"))\n",
    "r=int(input(\"Enter rate of interst: \"))\n",
    "t=int(input(\"Enter time period in year: \"))\n",
    "\n",
    "si=(p*r*t)/100\n",
    "\n",
    "print(\"Simple Interest is: \", si)\n",
    "\n",
    "a=p+si\n",
    "\n",
    "print(\"Ammount after interest: \",a)"
   ]
  },
  {
   "cell_type": "code",
   "execution_count": null,
   "metadata": {},
   "outputs": [],
   "source": []
  }
 ],
 "metadata": {
  "kernelspec": {
   "display_name": "Python 3",
   "language": "python",
   "name": "python3"
  },
  "language_info": {
   "codemirror_mode": {
    "name": "ipython",
    "version": 3
   },
   "file_extension": ".py",
   "mimetype": "text/x-python",
   "name": "python",
   "nbconvert_exporter": "python",
   "pygments_lexer": "ipython3",
   "version": "3.8.3"
  }
 },
 "nbformat": 4,
 "nbformat_minor": 4
}
