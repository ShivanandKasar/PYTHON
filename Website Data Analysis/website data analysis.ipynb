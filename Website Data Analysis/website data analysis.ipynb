{
 "cells": [
  {
   "cell_type": "code",
   "execution_count": null,
   "id": "0d744d74",
   "metadata": {},
   "outputs": [],
   "source": [
    "df=pd.read_csv('website.csv')\n",
    "df.head()"
   ]
  },
  {
   "cell_type": "code",
   "execution_count": null,
   "id": "42bb0e2c",
   "metadata": {},
   "outputs": [],
   "source": [
    "df.columns = df.iloc[0] \n",
    "df = df.drop(index=0).reset_index(drop=True)\n",
    "df.columns = ['channel group', 'datehour', 'users', 'sessions', 'Engaged sessions', 'Average engagement time per session', 'Engaged sessions per user', \n",
    "              'Events per session', 'Engagement rate', 'Event count']"
   ]
  },
  {
   "cell_type": "code",
   "execution_count": null,
   "id": "49d5181f",
   "metadata": {},
   "outputs": [],
   "source": [
    "df.head()"
   ]
  },
  {
   "cell_type": "code",
   "execution_count": null,
   "id": "86510981",
   "metadata": {},
   "outputs": [],
   "source": [
    "df.info()"
   ]
  },
  {
   "cell_type": "code",
   "execution_count": null,
   "id": "58045307",
   "metadata": {},
   "outputs": [],
   "source": [
    "df['datehour'] = pd.to_datetime(df['datehour'], format='%Y%m%d%H', errors='coerce')\n",
    "df.head()"
   ]
  },
  {
   "cell_type": "code",
   "execution_count": null,
   "id": "b2fe8dad",
   "metadata": {},
   "outputs": [],
   "source": [
    "num_cols = df.columns.drop(['channel group', 'datehour'])\n",
    "df[num_cols] = df[num_cols].apply(pd.to_numeric, errors='coerce')\n",
    "df['hour'] = df['datehour'].dt.hour"
   ]
  },
  {
   "cell_type": "code",
   "execution_count": null,
   "id": "432c6d89",
   "metadata": {},
   "outputs": [],
   "source": [
    "df.head()"
   ]
  },
  {
   "cell_type": "code",
   "execution_count": null,
   "id": "005d92b6",
   "metadata": {},
   "outputs": [],
   "source": [
    "df.info()"
   ]
  },
  {
   "cell_type": "code",
   "execution_count": null,
   "id": "5f17e570",
   "metadata": {},
   "outputs": [],
   "source": [
    "df.describe()"
   ]
  },
  {
   "cell_type": "markdown",
   "id": "f6d2855d",
   "metadata": {},
   "source": []
  },
  {
   "cell_type": "markdown",
   "id": "0b45b993",
   "metadata": {},
   "source": [
    "1) What patterns or trends can you observe in website sessions and users over time?"
   ]
  },
  {
   "cell_type": "code",
   "execution_count": null,
   "id": "a71ae21b",
   "metadata": {},
   "outputs": [],
   "source": [
    "sns.set(style='whitegrid')"
   ]
  },
  {
   "cell_type": "code",
   "execution_count": null,
   "id": "0b415b23",
   "metadata": {},
   "outputs": [],
   "source": [
    "plt.figure(figsize=(10,5))\n",
    "df.groupby('datehour')[['users', 'sessions']].sum().plot(ax=plt.gca())\n",
    "plt.title(\"sessions and users over time\")\n",
    "plt.xlabel('DateHour')\n",
    "plt.ylabel(\"Users & Sessions\")\n",
    "plt.show()"
   ]
  },
  {
   "cell_type": "markdown",
   "id": "c2a9446c",
   "metadata": {},
   "source": [
    "During 16 to 20 may highest number of users visited and most sessions happened on the website."
   ]
  },
  {
   "cell_type": "code",
   "execution_count": null,
   "id": "bcbc9d64",
   "metadata": {},
   "outputs": [],
   "source": []
  },
  {
   "cell_type": "markdown",
   "id": "dfc5c4f5",
   "metadata": {},
   "source": [
    "2) Which marketing channel brought the highest number of users to the website, and how can we use this insight to improve traffic from other sources?"
   ]
  },
  {
   "cell_type": "code",
   "execution_count": null,
   "id": "d291e5c4",
   "metadata": {},
   "outputs": [],
   "source": [
    "plt.figure(figsize=(8,5))\n",
    "sns.barplot(data=df, x='channel group', y='users', hue=df['channel group'], estimator=np.sum, palette='viridis', legend=False)\n",
    "plt.title(\"Total user by channel\")\n",
    "plt.xticks(rotation=45)\n",
    "plt.show()"
   ]
  },
  {
   "cell_type": "markdown",
   "id": "523203ff",
   "metadata": {},
   "source": [
    "Organic social channel group channel brought the highest number of users to the website, and 'unassigned', 'Organic Video' and 'Email' channel groups has to improve their performance interms of gathering users."
   ]
  },
  {
   "cell_type": "code",
   "execution_count": null,
   "id": "e15ae7f1",
   "metadata": {},
   "outputs": [],
   "source": []
  },
  {
   "cell_type": "markdown",
   "id": "9f99e9ea",
   "metadata": {},
   "source": [
    "3) Which channel has the highest average engagement time, and what does that tell us about user behavior and content effectiveness?"
   ]
  },
  {
   "cell_type": "code",
   "execution_count": null,
   "id": "ca450ad1",
   "metadata": {},
   "outputs": [],
   "source": [
    "plt.figure(figsize=(8,5))\n",
    "sns.barplot(data=df, x='channel group', y='Average engagement time per session', hue=df['channel group'], \n",
    "            estimator=np.mean, palette='magma', legend=False)\n",
    "plt.title(\"Avg Engagement time per channel\")\n",
    "plt.xticks(rotation=45)"
   ]
  },
  {
   "cell_type": "markdown",
   "id": "85cf2193",
   "metadata": {},
   "source": [
    "Organic video channel has the highest average engagement time, and even it bought less number of users on website but engagement time is higher among all channels. same with Email and unassigned channel."
   ]
  },
  {
   "cell_type": "code",
   "execution_count": null,
   "id": "110c1854",
   "metadata": {},
   "outputs": [],
   "source": []
  },
  {
   "cell_type": "markdown",
   "id": "c88624a8",
   "metadata": {},
   "source": [
    "4) How does engagement rate vary across different traffic channels?"
   ]
  },
  {
   "cell_type": "code",
   "execution_count": null,
   "id": "abe5127f",
   "metadata": {},
   "outputs": [],
   "source": [
    "plt.figure(figsize=(8,5))\n",
    "sns.boxplot(data=df, x='channel group', y='Engagement rate', palette='coolwarm', hue='channel group', legend=False)\n",
    "plt.title(\"Engagement rate distribution by channel\")\n",
    "plt.xticks(rotation=45)\n",
    "plt.show()"
   ]
  },
  {
   "cell_type": "markdown",
   "id": "21ca0b84",
   "metadata": {},
   "source": [
    "Referral channel group has highest engagement rate also minimum outliers in the terms of engagement rate."
   ]
  },
  {
   "cell_type": "code",
   "execution_count": null,
   "id": "9a735a0b",
   "metadata": {},
   "outputs": [],
   "source": [
    "df.head()"
   ]
  },
  {
   "cell_type": "markdown",
   "id": "3a060681",
   "metadata": {},
   "source": [
    "5) Which channels are driving more engaged sessions compared to non-engaged ones, and what strategies can improve engagement in underperforming channels?"
   ]
  },
  {
   "cell_type": "code",
   "execution_count": null,
   "id": "0c6b9c43",
   "metadata": {},
   "outputs": [],
   "source": [
    "session_df = df.groupby('channel group')[['sessions', 'Engaged sessions']].sum().reset_index()\n",
    "session_df['Non-Engaged'] = session_df['sessions'] - session_df['Engaged sessions']\n",
    "session_df_melted = session_df.melt(id_vars='channel group', value_vars = ['Engaged sessions', 'Non-Engaged'])\n",
    "\n",
    "plt.figure(figsize=(8,5))\n",
    "sns.barplot(data=session_df_melted, x='channel group', y='value', hue='variable')\n",
    "plt.title('Engaged Vs Non-Engaged sessions')\n",
    "plt.xticks(rotation=45)\n",
    "plt.show()"
   ]
  },
  {
   "cell_type": "markdown",
   "id": "77aa08e3",
   "metadata": {},
   "source": [
    "Organic Social channels are driving more engaged sessions compared to non-engaged ones"
   ]
  },
  {
   "cell_type": "code",
   "execution_count": null,
   "id": "b858d3e6",
   "metadata": {},
   "outputs": [],
   "source": [
    "df.head()"
   ]
  },
  {
   "cell_type": "markdown",
   "id": "e52424c8",
   "metadata": {},
   "source": [
    "6) At what hours of the day does each channel drive the most traffic?"
   ]
  },
  {
   "cell_type": "code",
   "execution_count": null,
   "id": "b324a03f",
   "metadata": {},
   "outputs": [],
   "source": [
    "heatmap_data = df.groupby(['hour', 'channel group'])['sessions'].sum().unstack().fillna(0)\n",
    "\n",
    "plt.figure(figsize=(12,6))\n",
    "sns.heatmap(heatmap_data, cmap='YlGnBu', linewidths=.5, annot=True, fmt='.0f')\n",
    "plt.title(\"Traffic by hour and channel\")\n",
    "plt.xlabel(\"channel group\")\n",
    "plt.ylabel(\"Hour of the day\")\n",
    "plt.xticks(rotation=45)\n",
    "plt.show()"
   ]
  },
  {
   "cell_type": "markdown",
   "id": "e2db7233",
   "metadata": {},
   "source": [
    "- At 0th hour of the day does organic social channel drive the most traffic\n",
    "- At 13th hour of the day does Direct channel drive the most traffic\n",
    "- At 2nd and 19th hour of the day does Email channel drive the most traffic\n",
    "- At 14th hour of the day does social search channel drive the most traffic\n",
    "- At 19th & 22th hour of the day does organic video channel drive the most traffic\n",
    "- At 11th hour of the day does referral channel drive the most traffic\n",
    "- At 15th & 19th hour of the day does unassigned channel drive the most traffic"
   ]
  },
  {
   "cell_type": "code",
   "execution_count": null,
   "id": "8ea80b78",
   "metadata": {},
   "outputs": [],
   "source": [
    "df.head()"
   ]
  },
  {
   "cell_type": "markdown",
   "id": "2d2607bc",
   "metadata": {},
   "source": [
    "7) Is there any correlation between high traffic (sessions) and high engagement rate over time?"
   ]
  },
  {
   "cell_type": "code",
   "execution_count": null,
   "id": "8685ad2a",
   "metadata": {},
   "outputs": [],
   "source": [
    "df_plot = df.groupby('datehour')[['Engagement rate', 'sessions']].mean().reset_index()\n",
    "\n",
    "plt.figure(figsize=(10,8))\n",
    "plt.plot(df_plot['datehour'], df_plot['Engagement rate'], label='Engagement rate', color='green')\n",
    "plt.plot(df_plot['datehour'], df_plot['sessions'], label='sessions', color='red')\n",
    "plt.title(\"Engegement rate vs session over time\")\n",
    "plt.xlabel('DateHour')\n",
    "plt.xticks(rotation=45)\n",
    "plt.legend()\n",
    "plt.grid(True)\n",
    "plt.show()"
   ]
  },
  {
   "cell_type": "markdown",
   "id": "d7f6f62f",
   "metadata": {},
   "source": [
    "High fluctuation in sessions but engagement rate is very low."
   ]
  },
  {
   "cell_type": "code",
   "execution_count": null,
   "id": "51ed518a",
   "metadata": {},
   "outputs": [],
   "source": []
  }
 ],
 "metadata": {
  "kernelspec": {
   "display_name": "Python 3 (ipykernel)",
   "language": "python",
   "name": "python3"
  },
  "language_info": {
   "codemirror_mode": {
    "name": "ipython",
    "version": 3
   },
   "file_extension": ".py",
   "mimetype": "text/x-python",
   "name": "python",
   "nbconvert_exporter": "python",
   "pygments_lexer": "ipython3",
   "version": "3.9.13"
  }
 },
 "nbformat": 4,
 "nbformat_minor": 5
}
